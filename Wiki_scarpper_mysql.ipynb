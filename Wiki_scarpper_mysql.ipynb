{
 "cells": [
  {
   "cell_type": "code",
   "execution_count": 36,
   "metadata": {},
   "outputs": [],
   "source": [
    "import pandas as pd"
   ]
  },
  {
   "cell_type": "code",
   "execution_count": 37,
   "metadata": {},
   "outputs": [],
   "source": [
    "import requests\n",
    "from bs4 import BeautifulSoup\n",
    "\n",
    "def get_html_wiki_text_label(keyword, location):\n",
    "    response = requests.get(f'https://en.wikipedia.org/wiki/{location}')\n",
    "    soup = BeautifulSoup(response.content, 'html.parser')\n",
    "    i = 0\n",
    "    for item in soup.select(\"th.infobox-label\"):\n",
    "        if(keyword in item.get_text()):\n",
    "            return soup.select(\"td.infobox-data\")[i].get_text()\n",
    "        i = i+1"
   ]
  },
  {
   "cell_type": "code",
   "execution_count": 38,
   "metadata": {},
   "outputs": [
    {
     "name": "stdout",
     "output_type": "stream",
     "text": [
      "Germany\n",
      "Berlin\n",
      "891.7 km2 (344.3 sq mi)\n",
      "4,473,101\n",
      "6,144,600\n"
     ]
    }
   ],
   "source": [
    "print(get_html_wiki_text_label('Country', 'Berlin'))\n",
    "print(get_html_wiki_text_label('State', 'Berlin'))\n",
    "print(get_html_wiki_text_label('City/State', 'Berlin'))\n",
    "print(get_html_wiki_text_label('Urban', 'Berlin'))\n",
    "print(get_html_wiki_text_label('Metro', 'Berlin'))"
   ]
  },
  {
   "cell_type": "code",
   "execution_count": 39,
   "metadata": {},
   "outputs": [],
   "source": [
    "target_cities = ['Berlin', 'Frankfurt']\n",
    "Countries = []\n",
    "States = []\n",
    "City_State = []\n",
    "Urban = []\n",
    "Metro = []\n",
    "for city in target_cities:\n",
    "    Countries.append(get_html_wiki_text_label('Country', city))\n",
    "    States.append(get_html_wiki_text_label('State', city))\n",
    "    City_State.append(get_html_wiki_text_label('City/State', city))\n",
    "    Urban.append(get_html_wiki_text_label('Urban', city))\n",
    "    Metro.append(get_html_wiki_text_label('Metro', city))\n",
    "    "
   ]
  },
  {
   "cell_type": "code",
   "execution_count": 40,
   "metadata": {},
   "outputs": [
    {
     "data": {
      "text/html": [
       "<div>\n",
       "<style scoped>\n",
       "    .dataframe tbody tr th:only-of-type {\n",
       "        vertical-align: middle;\n",
       "    }\n",
       "\n",
       "    .dataframe tbody tr th {\n",
       "        vertical-align: top;\n",
       "    }\n",
       "\n",
       "    .dataframe thead th {\n",
       "        text-align: right;\n",
       "    }\n",
       "</style>\n",
       "<table border=\"1\" class=\"dataframe\">\n",
       "  <thead>\n",
       "    <tr style=\"text-align: right;\">\n",
       "      <th></th>\n",
       "      <th>Countries</th>\n",
       "      <th>States</th>\n",
       "      <th>City_State</th>\n",
       "      <th>Urban</th>\n",
       "      <th>Metro</th>\n",
       "    </tr>\n",
       "  </thead>\n",
       "  <tbody>\n",
       "    <tr>\n",
       "      <th>0</th>\n",
       "      <td>Germany</td>\n",
       "      <td>Berlin</td>\n",
       "      <td>891.7 km2 (344.3 sq mi)</td>\n",
       "      <td>4,473,101</td>\n",
       "      <td>6,144,600</td>\n",
       "    </tr>\n",
       "    <tr>\n",
       "      <th>1</th>\n",
       "      <td>Germany</td>\n",
       "      <td>Hesse</td>\n",
       "      <td>None</td>\n",
       "      <td>2,319,029[3]</td>\n",
       "      <td>5,604,523[2]</td>\n",
       "    </tr>\n",
       "  </tbody>\n",
       "</table>\n",
       "</div>"
      ],
      "text/plain": [
       "  Countries  States               City_State         Urban         Metro\n",
       "0   Germany  Berlin  891.7 km2 (344.3 sq mi)     4,473,101     6,144,600\n",
       "1   Germany   Hesse                     None  2,319,029[3]  5,604,523[2]"
      ]
     },
     "execution_count": 40,
     "metadata": {},
     "output_type": "execute_result"
    }
   ],
   "source": [
    "pd.DataFrame({\n",
    "'Countries' : Countries,\n",
    "'States': Cities,\n",
    "'City_State': City_State,\n",
    "'Urban': Urban,\n",
    "'Metro': Metro    \n",
    "}\n",
    ")"
   ]
  },
  {
   "cell_type": "markdown",
   "metadata": {},
   "source": [
    "### 1. Create table in mysql,  https://www.w3schools.com/sql/sql_create_table.asp, https://www.w3schools.com/sql/sql_datatypes.asp\n",
    "### 2. Test insert in mysql https://www.w3schools.com/sql/sql_insert.asp\n",
    "### 3. While you are looping in target cities in the code below push the data into mysql via python. Use python code iss_insert_data_sql as example.\n",
    "\n",
    "for city in target_cities:\n",
    "\n",
    "    country = get_html_wiki_text_label('Country', city)\n",
    "    \n",
    "    state = get_html_wiki_text_label('State', city)\n",
    "    \n",
    "    urban =...\n",
    "    ...\n",
    "    data_to_push = (country, state, .....)\n",
    " \n"
   ]
  },
  {
   "cell_type": "markdown",
   "metadata": {},
   "source": [
    "### Extra: try to use directly pandas you created to push dataframe to mysql: https://pythontic.com/pandas/serialization/mysql#:~:text=Create%20a%20dataframe%20by%20calling,data%20from%20the%20pandas%20dataframe."
   ]
  },
  {
   "cell_type": "code",
   "execution_count": null,
   "metadata": {},
   "outputs": [],
   "source": []
  }
 ],
 "metadata": {
  "kernelspec": {
   "display_name": "Python 3",
   "language": "python",
   "name": "python3"
  },
  "language_info": {
   "codemirror_mode": {
    "name": "ipython",
    "version": 3
   },
   "file_extension": ".py",
   "mimetype": "text/x-python",
   "name": "python",
   "nbconvert_exporter": "python",
   "pygments_lexer": "ipython3",
   "version": "3.7.6"
  }
 },
 "nbformat": 4,
 "nbformat_minor": 4
}
