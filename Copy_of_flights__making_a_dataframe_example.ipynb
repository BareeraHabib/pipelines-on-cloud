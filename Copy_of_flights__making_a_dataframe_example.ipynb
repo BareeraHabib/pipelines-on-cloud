{
  "cells": [
    {
      "cell_type": "code",
      "execution_count": 1,
      "metadata": {
        "id": "h9FKm7mrkbqS"
      },
      "outputs": [],
      "source": [
        "import pandas as pd\n",
        "from datetime import datetime, date, timedelta\n",
        "import requests\n",
        "from pytz import timezone"
      ]
    },
    {
      "cell_type": "code",
      "execution_count": 3,
      "metadata": {
        "id": "iuNXcx-oMbX3"
      },
      "outputs": [],
      "source": [
        "def tomorrows_flight_arrivals(icao_list):\n",
        "\n",
        "  today = datetime.now().astimezone(timezone('Europe/Berlin')).date()\n",
        "  tomorrow = (today + timedelta(days=1))\n",
        "\n",
        "  list_for_df = []\n",
        "\n",
        "  for icao in icao_list:\n",
        "    times = [[\"08:00\",\"09:00\"],[\"09:00\",\"12:00\"]]\n",
        "\n",
        "    for time in times:\n",
        "      url = f\"https://aerodatabox.p.rapidapi.com/flights/airports/icao/{icao}/{tomorrow}T{time[0]}/{tomorrow}T{time[1]}\"\n",
        "      querystring = {\"withLeg\":\"true\",\"direction\":\"Arrival\",\"withCancelled\":\"false\",\"withCodeshared\":\"true\",\"withCargo\":\"false\",\"withPrivate\":\"false\"}\n",
        "      headers = {\n",
        "          'x-rapidapi-host': \"aerodatabox.p.rapidapi.com\",\n",
        "          'x-rapidapi-key': \"419bc00184msh3cf56dcb9e2bb5fp145db2jsnb7e77dc1bd65\"\n",
        "          }\n",
        "      response = requests.request(\"GET\", url, headers=headers, params=querystring)\n",
        "      flights_json = response.json()\n",
        "\n",
        "      for flight in flights_json['arrivals']:\n",
        "        flights_dict = {}\n",
        "        flights_dict['arrival_icao'] = icao\n",
        "        # .get() is another way of ensuring our code doesn't break\n",
        "        # in the previous 2 notebooks you learnt about 'if' (cities) and 'try/except' (weather)\n",
        "        # .get() works similar, it will get the text if possible, if there is no text a None value will be inserted instead\n",
        "        flights_dict['arrival_time_local'] = flight['arrival'].get('scheduledTimeLocal', None)\n",
        "        flights_dict['arrival_terminal'] = flight['arrival'].get('terminal', None)\n",
        "        flights_dict['departure_city'] = flight['departure']['airport'].get('name', None)\n",
        "        flights_dict['departure_icao'] = flight['departure']['airport'].get('icao', None)\n",
        "        flights_dict['departure_time_local'] = flight['departure'].get('scheduledTimeLocal', None)\n",
        "        flights_dict['airline'] = flight['airline'].get('name', None)\n",
        "        flights_dict['flight_number'] = flight.get('number', None)\n",
        "        flights_dict['data_retrieved_on'] = datetime.now().astimezone(timezone('Europe/Berlin')).date()\n",
        "        list_for_df.append(flights_dict)\n",
        "\n",
        "  return pd.DataFrame(list_for_df)"
      ]
    },
    {
      "cell_type": "code",
      "execution_count": null,
      "metadata": {},
      "outputs": [],
      "source": [
        "json\n"
      ]
    },
    {
      "cell_type": "code",
      "execution_count": 4,
      "metadata": {
        "colab": {
          "base_uri": "https://localhost:8080/",
          "height": 312
        },
        "id": "HHHSrPfmnxEl",
        "outputId": "b90b65ba-a87b-460d-8afc-9dc4c21342fb"
      },
      "outputs": [
        {
          "data": {
            "text/html": [
              "<div>\n",
              "<style scoped>\n",
              "    .dataframe tbody tr th:only-of-type {\n",
              "        vertical-align: middle;\n",
              "    }\n",
              "\n",
              "    .dataframe tbody tr th {\n",
              "        vertical-align: top;\n",
              "    }\n",
              "\n",
              "    .dataframe thead th {\n",
              "        text-align: right;\n",
              "    }\n",
              "</style>\n",
              "<table border=\"1\" class=\"dataframe\">\n",
              "  <thead>\n",
              "    <tr style=\"text-align: right;\">\n",
              "      <th></th>\n",
              "      <th>arrival_icao</th>\n",
              "      <th>arrival_time_local</th>\n",
              "      <th>arrival_terminal</th>\n",
              "      <th>departure_city</th>\n",
              "      <th>departure_icao</th>\n",
              "      <th>departure_time_local</th>\n",
              "      <th>airline</th>\n",
              "      <th>flight_number</th>\n",
              "      <th>data_retrieved_on</th>\n",
              "    </tr>\n",
              "  </thead>\n",
              "  <tbody>\n",
              "    <tr>\n",
              "      <th>0</th>\n",
              "      <td>EDDL</td>\n",
              "      <td>2022-08-19 08:05+02:00</td>\n",
              "      <td>B</td>\n",
              "      <td>Heraklion</td>\n",
              "      <td>LGIR</td>\n",
              "      <td>None</td>\n",
              "      <td>Corendon  Europe</td>\n",
              "      <td>XR 565</td>\n",
              "      <td>2022-08-18</td>\n",
              "    </tr>\n",
              "    <tr>\n",
              "      <th>1</th>\n",
              "      <td>EDDL</td>\n",
              "      <td>2022-08-19 08:20+02:00</td>\n",
              "      <td>C</td>\n",
              "      <td>İzmir</td>\n",
              "      <td>LTBJ</td>\n",
              "      <td>2022-08-19 06:00+03:00</td>\n",
              "      <td>Corendon Air</td>\n",
              "      <td>XC 3783</td>\n",
              "      <td>2022-08-18</td>\n",
              "    </tr>\n",
              "    <tr>\n",
              "      <th>2</th>\n",
              "      <td>EDDL</td>\n",
              "      <td>2022-08-19 08:25+02:00</td>\n",
              "      <td>C</td>\n",
              "      <td>İzmir</td>\n",
              "      <td>LTBJ</td>\n",
              "      <td>2022-08-19 06:00+03:00</td>\n",
              "      <td>SunExpress</td>\n",
              "      <td>XQ 988</td>\n",
              "      <td>2022-08-18</td>\n",
              "    </tr>\n",
              "    <tr>\n",
              "      <th>3</th>\n",
              "      <td>EDDL</td>\n",
              "      <td>2022-08-19 08:30+02:00</td>\n",
              "      <td>C</td>\n",
              "      <td>Antalya</td>\n",
              "      <td>LTAI</td>\n",
              "      <td>2022-08-19 05:30+03:00</td>\n",
              "      <td>SunExpress</td>\n",
              "      <td>XQ 282</td>\n",
              "      <td>2022-08-18</td>\n",
              "    </tr>\n",
              "    <tr>\n",
              "      <th>4</th>\n",
              "      <td>EDDL</td>\n",
              "      <td>2022-08-19 08:40+02:00</td>\n",
              "      <td>A</td>\n",
              "      <td>Munich</td>\n",
              "      <td>EDDM</td>\n",
              "      <td>2022-08-19 07:30+02:00</td>\n",
              "      <td>Lufthansa</td>\n",
              "      <td>LH 2010</td>\n",
              "      <td>2022-08-18</td>\n",
              "    </tr>\n",
              "  </tbody>\n",
              "</table>\n",
              "</div>"
            ],
            "text/plain": [
              "  arrival_icao      arrival_time_local arrival_terminal departure_city  \\\n",
              "0         EDDL  2022-08-19 08:05+02:00                B      Heraklion   \n",
              "1         EDDL  2022-08-19 08:20+02:00                C          İzmir   \n",
              "2         EDDL  2022-08-19 08:25+02:00                C          İzmir   \n",
              "3         EDDL  2022-08-19 08:30+02:00                C        Antalya   \n",
              "4         EDDL  2022-08-19 08:40+02:00                A         Munich   \n",
              "\n",
              "  departure_icao    departure_time_local           airline flight_number  \\\n",
              "0           LGIR                    None  Corendon  Europe        XR 565   \n",
              "1           LTBJ  2022-08-19 06:00+03:00      Corendon Air       XC 3783   \n",
              "2           LTBJ  2022-08-19 06:00+03:00        SunExpress        XQ 988   \n",
              "3           LTAI  2022-08-19 05:30+03:00        SunExpress        XQ 282   \n",
              "4           EDDM  2022-08-19 07:30+02:00         Lufthansa       LH 2010   \n",
              "\n",
              "  data_retrieved_on  \n",
              "0        2022-08-18  \n",
              "1        2022-08-18  \n",
              "2        2022-08-18  \n",
              "3        2022-08-18  \n",
              "4        2022-08-18  "
            ]
          },
          "execution_count": 4,
          "metadata": {},
          "output_type": "execute_result"
        }
      ],
      "source": [
        "icaos = ['EDDL', 'EGLL']\n",
        "tomorrows_flight_arrivals(icaos).head()"
      ]
    },
    {
      "cell_type": "code",
      "execution_count": null,
      "metadata": {
        "id": "W0G9ZI9MAoMx"
      },
      "outputs": [],
      "source": []
    }
  ],
  "metadata": {
    "colab": {
      "collapsed_sections": [],
      "name": "Copy of flights__making_a_dataframe_example.ipynb",
      "provenance": []
    },
    "kernelspec": {
      "display_name": "Python 3.9.7 ('base')",
      "language": "python",
      "name": "python3"
    },
    "language_info": {
      "codemirror_mode": {
        "name": "ipython",
        "version": 3
      },
      "file_extension": ".py",
      "mimetype": "text/x-python",
      "name": "python",
      "nbconvert_exporter": "python",
      "pygments_lexer": "ipython3",
      "version": "3.9.7"
    },
    "vscode": {
      "interpreter": {
        "hash": "f08154012ddadd8e950e6e9e035c7a7b32c136e7647e9b7c77e02eb723a8bedb"
      }
    }
  },
  "nbformat": 4,
  "nbformat_minor": 0
}
